{
 "cells": [
  {
   "cell_type": "markdown",
   "metadata": {},
   "source": [
    "To get more efficient algorithm for solving the game we need to better identify when a ship has been sunk. Thankfully, the official rules of the game help us in this regard. Up until now, we have only used two states for giving feedback on each shot: **HIT** and **MISS**."
   ]
  },
  {
   "cell_type": "markdown",
   "metadata": {},
   "source": [
    "The official rules of the game also state that you should let your opponent know if they have successfully **SUNK** any ship, so this third style message \"*You have sunk my aircraft carrier*\" conveys much more information than just hit."
   ]
  },
  {
   "cell_type": "markdown",
   "metadata": {},
   "source": [
    "It tells you the length of the ship you have just hit, it tells you that you have hit all pixels of this ship, and it could, potentially, give you a new minimum size of ship you are searching for (for instance, if you have sunk all ships other than the aircraft carrier, then you know that this remaining ship is five units long and can adjust your random search according to skip the appropriate number of spaced when in hunt mode."
   ]
  },
  {
   "cell_type": "markdown",
   "metadata": {},
   "source": [
    "First thing to implement is adding some way of knowing if ship is sunk. Currently, there's no notion of a ship. Gameboard just draws squares on passed locations. We'll try to do this without completely rewriting existing classes. For that, we make a Ship class. But we add generate_separate_locations method to Random class first. That method will help us initialize ship objects."
   ]
  },
  {
   "cell_type": "code",
   "execution_count": 1,
   "metadata": {
    "ExecuteTime": {
     "end_time": "2020-05-20T21:36:43.643300Z",
     "start_time": "2020-05-20T21:36:43.110712Z"
    }
   },
   "outputs": [],
   "source": [
    "import random as pyrandom\n",
    "from Gameboard import *"
   ]
  },
  {
   "cell_type": "code",
   "execution_count": 2,
   "metadata": {
    "ExecuteTime": {
     "end_time": "2020-05-20T21:36:43.724281Z",
     "start_time": "2020-05-20T21:36:43.646957Z"
    }
   },
   "outputs": [],
   "source": [
    "class Random:\n",
    "    def __init__(self):\n",
    "        # possible locations list isn't affected by the methods\n",
    "        self.possible_locations = []\n",
    "        self.available_locations = []\n",
    "        for i in Gameboard.row_labels:\n",
    "            for j in Gameboard.col_labels:\n",
    "                self.possible_locations.append(i + str(j))\n",
    "                self.available_locations.append(i + str(j))\n",
    "        \n",
    "    def reset_available_locations(self):\n",
    "        self.available_locations = self.possible_locations.copy()\n",
    "        \n",
    "    # chooses random location from available locations list and removes it if keep is False\n",
    "    def choose(self, keep=False):\n",
    "        choice = pyrandom.choice(self.available_locations)\n",
    "        if not keep:\n",
    "            self.available_locations.remove(choice)\n",
    "        return choice\n",
    "    \n",
    "    # returns random location from possible locations list\n",
    "    def choose_from_all(self):\n",
    "        return pyrandom.choice(self.possible_locations)\n",
    "    \n",
    "    # removes passed location from available locations list \n",
    "    def make_unavailable(self, location):\n",
    "        self.available_locations.remove(location)\n",
    "    \n",
    "    # generates random locations for ships of various length and returns them\n",
    "    # WARGING: current implementation is not optimal and should be changed sometime in the future\n",
    "    # NOTE: this method currently uses choose method but it resets available locations at the end\n",
    "    def generate_ship_locations(self, lengths=[5, 4, 3, 3, 2]):\n",
    "        flat_list = []\n",
    "        for sublist in self.generate_separate_locations(lengths):\n",
    "            for item in sublist:\n",
    "                flat_list.append(item)\n",
    "        return flat_list\n",
    "    \n",
    "    # returns array of ship locations, where ship locations are array of locations themselves\n",
    "    # for example: [2, 3] returns [['A1', 'A2'], ['C3', 'C4', 'C5']]\n",
    "    def generate_separate_locations(self, lengths=[5, 4, 3, 3, 2]):\n",
    "        locations = []\n",
    "        \n",
    "        for length in lengths:\n",
    "            orientation = pyrandom.choice(['horizontal', 'vertical'])\n",
    "            \n",
    "            # randomize a ship location until it fits\n",
    "            while True:\n",
    "                choice_pivot = self.choose(keep=True)\n",
    "                choices = [choice_pivot]\n",
    "                if orientation == 'horizontal':   \n",
    "                    # generate all other choices (for horizontal orientation)\n",
    "                    for i in range(length - 1):\n",
    "                        # when orientation is horizontal, column is changed\n",
    "                        choice_next = choice_pivot[0] + str(int(choice_pivot[1:]) + i + 1)\n",
    "                        choices.append(choice_next)\n",
    "                else:\n",
    "                    # generate all other choices (for vertical orientation)\n",
    "                    for i in range(length - 1):\n",
    "                        # when orientation is vertical, row is changed\n",
    "                        choice_next = chr(ord(choice_pivot[0]) + i + 1) + choice_pivot[1:]\n",
    "                        choices.append(choice_next)\n",
    "                # after generation, we must check if locations are legal\n",
    "                is_legal = True\n",
    "                for choice in choices:\n",
    "                    if choice not in self.available_locations:\n",
    "                        is_legal = False\n",
    "                # if they're legal, we update available locations and break the loop\n",
    "                if is_legal:\n",
    "                    self.available_locations = [x for x in self.available_locations if x not in choices]\n",
    "                    locations.append(choices)\n",
    "                    break\n",
    "        \n",
    "        # reset available locations and return result\n",
    "        self.reset_available_locations()\n",
    "        return locations"
   ]
  },
  {
   "cell_type": "code",
   "execution_count": 3,
   "metadata": {
    "ExecuteTime": {
     "end_time": "2020-05-20T21:36:43.893746Z",
     "start_time": "2020-05-20T21:36:43.730699Z"
    }
   },
   "outputs": [
    {
     "data": {
      "text/plain": [
       "[['G6', 'G7', 'G8', 'G9', 'G10'],\n",
       " ['B4', 'C4', 'D4', 'E4'],\n",
       " ['D5', 'E5', 'F5'],\n",
       " ['H4', 'I4', 'J4'],\n",
       " ['E2', 'E3']]"
      ]
     },
     "execution_count": 3,
     "metadata": {},
     "output_type": "execute_result"
    }
   ],
   "source": [
    "# test newly added method\n",
    "random = Random()\n",
    "random.generate_separate_locations()"
   ]
  },
  {
   "cell_type": "code",
   "execution_count": 4,
   "metadata": {
    "ExecuteTime": {
     "end_time": "2020-05-20T21:36:43.972799Z",
     "start_time": "2020-05-20T21:36:43.897003Z"
    }
   },
   "outputs": [],
   "source": [
    "class Ship:\n",
    "    # Random class already can generate locations, so we can initialize ship after that\n",
    "    def __init__(self, locations):\n",
    "        self.locations = locations\n",
    "        self.length = len(locations)\n",
    "        self.destroyed_locations = set()\n",
    "        self.is_damaged = False\n",
    "        \n",
    "    def get_length(self):\n",
    "        return self.length\n",
    "    \n",
    "    def get_locations(self):\n",
    "        return self.locations\n",
    "    \n",
    "    def destroy(self, location):\n",
    "        self.is_damaged = True\n",
    "        self.destroyed_locations.add(location)\n",
    "        \n",
    "    # returns True if at least one cell is hit\n",
    "    def is_damaged():\n",
    "        return self.is_damaged\n",
    "        \n",
    "    def is_sunk(self):\n",
    "        return len(self.destroyed_locations) == self.length"
   ]
  },
  {
   "cell_type": "code",
   "execution_count": 5,
   "metadata": {
    "ExecuteTime": {
     "end_time": "2020-05-20T21:36:44.092660Z",
     "start_time": "2020-05-20T21:36:43.976965Z"
    }
   },
   "outputs": [
    {
     "name": "stdout",
     "output_type": "stream",
     "text": [
      "['A5', 'B5', 'C5', 'D5', 'E5']\n",
      "5\n",
      "False\n",
      "True\n"
     ]
    }
   ],
   "source": [
    "# test Ship class\n",
    "ship = Ship(random.generate_separate_locations()[0])\n",
    "print(ship.get_locations())\n",
    "print(ship.get_length())\n",
    "print(ship.is_sunk())\n",
    "for loc in ship.get_locations():\n",
    "    ship.destroy(loc)\n",
    "print(ship.is_sunk())"
   ]
  },
  {
   "cell_type": "markdown",
   "metadata": {},
   "source": [
    "Now that we will be told when a ship is sunk, we know which ships (and even more importantly what the lengths of the ships) are still active. These facts are very valuable in determining which location we search next."
   ]
  },
  {
   "cell_type": "markdown",
   "metadata": {},
   "source": [
    "Our new algorithm will calculate the most probably location to fire at next based on a superposition of all possible locations the enemy ships could be in."
   ]
  },
  {
   "cell_type": "markdown",
   "metadata": {},
   "source": [
    "At the start of every new turn, based on the ships still left in the battle, we’ll work out all possible locations that every ship could fit (horizontally or vertically)."
   ]
  },
  {
   "cell_type": "markdown",
   "metadata": {},
   "source": [
    "Initially, this will be pretty much anywhere, but as more and more shots are fired, some locations become less likely, and some impossible. Every time it’s possible for a ship to be placed in over a grid location, we’ll increment a counter for that cell. The result will be a superposition of probabilities. ![PDF](https://i.imgur.com/GLmCEui.png)"
   ]
  },
  {
   "cell_type": "markdown",
   "metadata": {},
   "source": [
    "In the following simple examples, we're just looking at the probabilities for the location of an aircraft carrier (length 5 units). We start in the top left corner, and try placing it horizontally. If it fits, we increment a value for each cell it lays over as a 'possible location' in which there could a ship. Then we try sliding it over one square and repeating ... and so on until we reach the end of the row. Then we move down a line and repeat. Next we repeat the exercise with the ship oriented vertically."
   ]
  },
  {
   "cell_type": "markdown",
   "metadata": {},
   "source": [
    "Sometimes the ship will fit a space, sometimes it will not. As the board becomes more and more congested (with hits, misses and sunk ships), the number of possible positions the ships can fit reduces. It's not the absolute number, however, we're looking for. We're simply looking for the most likely location for a ship to be located in based on the information we already know."
   ]
  },
  {
   "cell_type": "markdown",
   "metadata": {},
   "source": [
    "Whilst the examples below show just the probablity distributions for where an aircraft carrier could be hidden, for the full implementation we iterate through each not-yet-sunk ship adding them together to create the superposition. The algorithm selects the location with the highest count of possible ships that could be positioned through that square."
   ]
  },
  {
   "cell_type": "markdown",
   "metadata": {
    "ExecuteTime": {
     "end_time": "2020-05-20T15:26:42.915896Z",
     "start_time": "2020-05-20T15:26:42.908578Z"
    }
   },
   "source": [
    "In this configuration we can see a white square just to the left of the top miss. It is *impossible* for the aircraft carrier to pass through this square.\n",
    "\n",
    "![Example 2](https://i.imgur.com/PZVDR8e.png)"
   ]
  },
  {
   "cell_type": "markdown",
   "metadata": {
    "ExecuteTime": {
     "end_time": "2020-05-20T15:28:49.859801Z",
     "start_time": "2020-05-20T15:28:49.847951Z"
    }
   },
   "source": [
    "A ficticious board layout with lots of misses marked. Many of the locations are *impossible* to host the carrier. The darker the shading, the more possible ways that the carrier could use this square.\n",
    "\n",
    "![Example 3](https://i.imgur.com/jpUAzzx.png)"
   ]
  },
  {
   "cell_type": "markdown",
   "metadata": {},
   "source": [
    "This algorithm still has a **hunt** mode and **target** mode, though both operate essentially the same way. When in hunt mode, there are only three states to worry about: *unvisited space, misses* and *sunk ships*. Misses and Sunk ships are treated the same (obstructions that potential ships needed to be placed around). In target mode (where there is at least one hit ship that has not been sunk), then ships can, by definition, pass through this location, and so hit squares are treated as *unvisited space* squares for deciding if a ship 'could' pass through this square, and then a **heavy** score weighting is granted to possible locations that pass through a point we know already know contains a hit."
   ]
  },
  {
   "cell_type": "markdown",
   "metadata": {},
   "source": [
    "If we want to implement everything that's written above, first we must add functionality to gameboard which helps us draw probability distribution. For that, we change last 3 methods in Gameboard class. Also, we add set_probabilities function. Everything else stays the same."
   ]
  },
  {
   "cell_type": "code",
   "execution_count": 6,
   "metadata": {
    "ExecuteTime": {
     "end_time": "2020-05-20T21:36:44.191453Z",
     "start_time": "2020-05-20T21:36:44.096766Z"
    }
   },
   "outputs": [],
   "source": [
    "class Gameboard:\n",
    "    # static variables (they aren't intended to change)\n",
    "    nrows, ncols = 10, 10\n",
    "    col_labels = [1, 2, 3, 4, 5, 6, 7, 8, 9, 10]\n",
    "    row_labels = ['A', 'B', 'C', 'D', 'E', 'F', 'G', 'H', 'I', 'J']\n",
    "    \n",
    "    boat_color = colors.to_rgb('royalblue')\n",
    "    hit_color = colors.to_rgb('red')\n",
    "    \n",
    "    def __init__(self):\n",
    "        # create board image (initially completely white)\n",
    "        self.board = np.ones([Gameboard.nrows, Gameboard.ncols, 3])\n",
    "        # create marker locations array\n",
    "        self.markers = []\n",
    "\n",
    "        # create figure and axes\n",
    "        self.fig, self.ax = plt.subplots()\n",
    "\n",
    "        # show all ticks\n",
    "        self.ax.set_xticks(np.arange(Gameboard.ncols))\n",
    "        self.ax.set_yticks(np.arange(Gameboard.nrows))\n",
    "\n",
    "        # set custom labels\n",
    "        self.ax.set_xticklabels(Gameboard.col_labels)\n",
    "        self.ax.set_yticklabels(Gameboard.row_labels)\n",
    "        \n",
    "        # set up minor ticks\n",
    "        self.ax.minorticks_on()\n",
    "        self.ax.set_xticks(np.arange(Gameboard.ncols) + 0.5, minor=True)\n",
    "        self.ax.set_yticks(np.arange(Gameboard.nrows) + 0.5, minor=True)\n",
    "\n",
    "        # turn off the display of all ticks\n",
    "        self.ax.tick_params(which='both', top=False, left=False, right=False, bottom=False)\n",
    "\n",
    "        # show grid on minor ticks\n",
    "        self.ax.grid(which='minor', linestyle='-', color='black')\n",
    "\n",
    "        # set bounds\n",
    "        self.ax.set_xbound(-0.5, 9.5)\n",
    "        self.ax.set_ybound(-0.5, 9.5)\n",
    "        \n",
    "        # initialize counters\n",
    "        self.alive_boat_count = 0\n",
    "        self.shot_count = 0\n",
    "        self.hit_count = 0\n",
    "        \n",
    "    # position should be a string or list of strings in [A-J][1-10] format\n",
    "    def hide_ship(self, *locations):\n",
    "        for location in locations:\n",
    "            self.alive_boat_count += 1\n",
    "            row = ord(location[0]) - ord('A')\n",
    "            col = int(location[1:]) - 1\n",
    "            self.board[row, col] = Gameboard.boat_color\n",
    "            \n",
    "    def unhide_ship(self, *locations):\n",
    "        for location in locations:\n",
    "            self.alive_boat_count -= 1\n",
    "            row = ord(location[0]) - ord('A')\n",
    "            col = int(location[1:]) - 1\n",
    "            # change square color to white\n",
    "            self.board[row, col] = 1\n",
    "    \n",
    "    def clear(self):\n",
    "        self.alive_boat_count = 0\n",
    "        self.shot_count = 0\n",
    "        self.hit_count = 0\n",
    "        self.board = np.ones([Gameboard.nrows, Gameboard.ncols, 3])\n",
    "        self.markers = []\n",
    "        # removes markers from axes\n",
    "        self.ax.lines = []\n",
    "        \n",
    "    # updates gameboard and returns True if boat was hit\n",
    "    def shoot(self, location):\n",
    "        self.shot_count += 1\n",
    "        \n",
    "        row = ord(location[0]) - ord('A')\n",
    "        col = int(location[1:]) - 1\n",
    "\n",
    "        # store hit marker location\n",
    "        self.markers.append([col, row])\n",
    "\n",
    "        # check if boat's at current location and change the color of square to red (destroy ship) if so\n",
    "        if (self.board[row, col] == Gameboard.boat_color).all():\n",
    "            self.board[row, col] = Gameboard.hit_color\n",
    "            self.alive_boat_count -= 1\n",
    "            self.hit_count += 1\n",
    "            return True\n",
    "        else:\n",
    "            return False\n",
    "        \n",
    "    # returns array of neighbouring locations of passed location (diagonal direction doesn't count)\n",
    "    def neighbours(self, location):\n",
    "        result = []\n",
    "\n",
    "        up = chr(ord(location[0]) - 1) + location[1:]\n",
    "        if self.in_range(up):\n",
    "            result.append(up)\n",
    "\n",
    "        down = chr(ord(location[0]) + 1) + location[1:]\n",
    "        if self.in_range(down):\n",
    "            result.append(down)\n",
    "\n",
    "        left = location[0] + str(int(location[1:]) - 1)\n",
    "        if self.in_range(left):\n",
    "            result.append(left)\n",
    "\n",
    "        right = location[0] + str(int(location[1:]) + 1)\n",
    "        if self.in_range(right):\n",
    "            result.append(right)\n",
    "\n",
    "        return result\n",
    "    \n",
    "    # returns True if passed location is within bounds\n",
    "    def in_range(self, location):\n",
    "        row = ord(location[0]) - ord('A')\n",
    "        col = int(location[1:]) - 1\n",
    "        if row >= 0 and row < Gameboard.nrows and col >= 0 and col < Gameboard.ncols:\n",
    "            return True\n",
    "        return False\n",
    "        \n",
    "    # returns True if all ships are destroyed\n",
    "    def is_game_over(self):\n",
    "        if self.alive_boat_count == 0:\n",
    "            return True\n",
    "        return False\n",
    "    \n",
    "    # returns number of boats currently alive\n",
    "    def get_alive_count(self):\n",
    "        return self.alive_boat_count\n",
    "    \n",
    "    # returns how many shots have been made so far\n",
    "    def get_shot_count(self):\n",
    "        return self.shot_count\n",
    "    \n",
    "    # returns how many ships are hit\n",
    "    def get_hit_count(self):\n",
    "        return self.hit_count\n",
    "    \n",
    "    # returns accuracy (# of hits) / (# of shots)\n",
    "    def get_accuracy(self):\n",
    "        if self.shot_count == 0:\n",
    "            return 0\n",
    "        else:\n",
    "            return self.hit_count / self.shot_count\n",
    "        \n",
    "    # returns matplotlib figure (if pdf is True, probability matrix is drawn)\n",
    "    def get_figure(self, pdf=False):\n",
    "        self.update(pdf=pdf)\n",
    "        return self.fig\n",
    "    \n",
    "    # returns matplotlib axes (if pdf is True, probability matrix is drawn)\n",
    "    def get_axes(self, pdf=False):\n",
    "        self.update(pdf=pdf)\n",
    "        return self.ax\n",
    "    \n",
    "    # applies changes made to board (if pdf is True, probability matrix is drawn)\n",
    "    def update(self, pdf=False):\n",
    "        for m in self.markers:\n",
    "            self.ax.plot(m[0], m[1], marker='X', markersize=15, color='darkgray')\n",
    "        if pdf:\n",
    "            self.ax.imshow(self.probabilities, origin='upper', cmap='binary',\n",
    "                           vmin=0, vmax=self.probabilities.max())\n",
    "        else:\n",
    "            self.ax.imshow(self.board, origin='upper')\n",
    "            \n",
    "    def set_probabilities(self, new):\n",
    "        self.probabilities = new"
   ]
  },
  {
   "cell_type": "code",
   "execution_count": 7,
   "metadata": {
    "ExecuteTime": {
     "end_time": "2020-05-20T21:36:44.893043Z",
     "start_time": "2020-05-20T21:36:44.200211Z"
    }
   },
   "outputs": [],
   "source": [
    "%%capture\n",
    "board = Gameboard()\n",
    "random = Random()\n",
    "board.hide_ship(*random.generate_ship_locations())"
   ]
  },
  {
   "cell_type": "code",
   "execution_count": 8,
   "metadata": {
    "ExecuteTime": {
     "end_time": "2020-05-20T21:36:45.342251Z",
     "start_time": "2020-05-20T21:36:44.896998Z"
    }
   },
   "outputs": [
    {
     "data": {
      "image/png": "[encoded data removed]",
      "text/plain": [
       "<Figure size 432x288 with 1 Axes>"
      ]
     },
     "execution_count": 8,
     "metadata": {},
     "output_type": "execute_result"
    }
   ],
   "source": [
    "# test updated Gameboard class\n",
    "probabilities = np.zeros([Gameboard.nrows, Gameboard.ncols])\n",
    "probabilities[0][0] = 0.7\n",
    "probabilities[0][1] = 0.5\n",
    "probabilities[0][2] = 0.3\n",
    "probabilities[0][3] = 0.1\n",
    "board.shoot('A5')\n",
    "board.shoot('A6')\n",
    "board.set_probabilities(probabilities)\n",
    "board.get_figure(pdf=True)"
   ]
  },
  {
   "cell_type": "markdown",
   "metadata": {},
   "source": [
    "Next, we try drawing probability distribution for clean board (no shots are made yet). "
   ]
  },
  {
   "cell_type": "code",
   "execution_count": 9,
   "metadata": {
    "ExecuteTime": {
     "end_time": "2020-05-20T21:36:45.809327Z",
     "start_time": "2020-05-20T21:36:45.346217Z"
    }
   },
   "outputs": [
    {
     "data": {
      "image/png": "[encoded data removed]",
      "text/plain": [
       "<Figure size 432x288 with 1 Axes>"
      ]
     },
     "execution_count": 9,
     "metadata": {},
     "output_type": "execute_result"
    }
   ],
   "source": [
    "board.clear()\n",
    "probabilities = np.zeros([Gameboard.nrows, Gameboard.ncols])\n",
    "ship = Ship(['F3', 'F4', 'F5', 'F6', 'F7'])\n",
    "board.hide_ship(*ship.get_locations())\n",
    "board.get_figure()"
   ]
  },
  {
   "cell_type": "code",
   "execution_count": 10,
   "metadata": {
    "ExecuteTime": {
     "end_time": "2020-05-20T21:36:45.849787Z",
     "start_time": "2020-05-20T21:36:45.812524Z"
    }
   },
   "outputs": [],
   "source": [
    "probabilities = np.zeros([Gameboard.nrows, Gameboard.ncols])\n",
    "\n",
    "# we must save locations where we already shot, because we must treat them as obstacles while sliding ships\n",
    "shot_locations = set()\n",
    "#shot_locations.add((4, 4))\n",
    "\n",
    "# number of loops required to slide ship across the whole board before changing orientation\n",
    "n_loops = Gameboard.nrows * Gameboard.ncols - Gameboard.ncols * (ship.get_length() - 1)\n",
    "\n",
    "# we slide ship from left to right. after reaching edge, we go one row lower and repeat\n",
    "start_pos = (ship.get_length() - 1, 0)\n",
    "\n",
    "# this is the loop for vertical orientation\n",
    "for i in range(n_loops):\n",
    "    curr_row = start_pos[0] + i // Gameboard.ncols\n",
    "    curr_col = start_pos[1] + i % Gameboard.ncols\n",
    "\n",
    "    # this time locations are tuples of ints, not strings\n",
    "    base_location = (curr_row, curr_col)\n",
    "\n",
    "    # for vertical orientations, column stays the same\n",
    "    curr_locations = []\n",
    "    for j in range(ship.get_length()):\n",
    "        curr_locations.append((base_location[0] - j, base_location[1]))\n",
    "\n",
    "    # for each current location, we check if shot_locations contains it.\n",
    "    # even if it's yes for one cell, ship doesn't fit so we move on.\n",
    "    # if no, we increment counter for each location in probability matrix\n",
    "    overlaps_shot_loc = False\n",
    "    for loc in curr_locations:\n",
    "        if loc in shot_locations:\n",
    "            overlaps_shot_loc = True\n",
    "\n",
    "    if overlaps_shot_loc:\n",
    "        continue\n",
    "\n",
    "    for loc in curr_locations:\n",
    "        probabilities[loc[0], loc[1]] += 1\n",
    "        \n",
    "# reset start_pos for horizontal orientation\n",
    "start_pos = (0, 0)\n",
    "\n",
    "# this is the loop for horizontal orientation\n",
    "for i in range(n_loops):\n",
    "    curr_row = start_pos[0] + i // (Gameboard.ncols - ship.get_length() + 1)\n",
    "    curr_col = start_pos[1] + i % (Gameboard.ncols - ship.get_length() + 1)\n",
    "    \n",
    "    base_location = (curr_row, curr_col)\n",
    "\n",
    "    # for horizontal orientations, row stays the same\n",
    "    curr_locations = []\n",
    "    for j in range(ship.get_length()):\n",
    "        curr_locations.append((base_location[0], base_location[1] + j))\n",
    "\n",
    "    overlaps_shot_loc = False\n",
    "    for loc in curr_locations:\n",
    "        if loc in shot_locations:\n",
    "            overlaps_shot_loc = True\n",
    "\n",
    "    if overlaps_shot_loc:\n",
    "        continue\n",
    "\n",
    "    for loc in curr_locations:\n",
    "        probabilities[loc[0], loc[1]] += 1"
   ]
  },
  {
   "cell_type": "code",
   "execution_count": 11,
   "metadata": {
    "ExecuteTime": {
     "end_time": "2020-05-20T21:36:46.503907Z",
     "start_time": "2020-05-20T21:36:45.852775Z"
    }
   },
   "outputs": [
    {
     "data": {
      "image/png": "[encoded data removed]",
      "text/plain": [
       "<Figure size 432x288 with 1 Axes>"
      ]
     },
     "execution_count": 11,
     "metadata": {},
     "output_type": "execute_result"
    }
   ],
   "source": [
    "board.set_probabilities(probabilities)\n",
    "board.get_figure(pdf=True)"
   ]
  }
 ],
 "metadata": {
  "kernelspec": {
   "display_name": "Python 3",
   "language": "python",
   "name": "python3"
  },
  "language_info": {
   "codemirror_mode": {
    "name": "ipython",
    "version": 3
   },
   "file_extension": ".py",
   "mimetype": "text/x-python",
   "name": "python",
   "nbconvert_exporter": "python",
   "pygments_lexer": "ipython3",
   "version": "3.7.3"
  }
 },
 "nbformat": 4,
 "nbformat_minor": 2
}
