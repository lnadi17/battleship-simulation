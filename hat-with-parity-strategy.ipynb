{
 "cells": [
  {
   "cell_type": "markdown",
   "metadata": {},
   "source": [
    "We can make a slight improvement to the **Hunt** part of the hunt and target algorithm using parity.\n"
   ]
  },
  {
   "cell_type": "markdown",
   "metadata": {},
   "source": [
    "Because the minimum length of a ship is two units long, then we\n",
    "don't need to random search every location on the board. Even\n",
    "the shortest ship has to straddle two adjacent squares.\n",
    "\n",
    "A mathematical term to describe this is **Parity**. This is just a\n",
    "fancy word of describing if the square would contain an odd or\n",
    "even number if labelled sequentially from 1 to 100.\n",
    "\n",
    "The blue squares on the grid are even parity and the white\n",
    "squares odd parity."
   ]
  },
  {
   "cell_type": "markdown",
   "metadata": {},
   "source": [
    "![Parity ](https://i.imgur.com/g5zbP0t.png)"
   ]
  },
  {
   "cell_type": "markdown",
   "metadata": {},
   "source": [
    "We can instruct our **Hunt** algorithm to only randomly fire into\n",
    "unknown locations with even parity. Even if we only ever fire at\n",
    "blue locations, we will at least hit every ship — it's impossible to\n",
    "place any ship so that it does not touch at least one blue\n",
    "square.\n",
    "\n",
    "Once a target as been hit, and Target mode is activated, the\n",
    "'parity' restriction is lifted enabling all potential targets to be\n",
    "investigated. If the algorithm returns to Hunt mode, again, the\n",
    "parity filter is enabled."
   ]
  },
  {
   "cell_type": "markdown",
   "metadata": {},
   "source": [
    "Some readers will have realised that, once we've sunk\n",
    "the two unit destroyer, we can change the parity restriction to a\n",
    "larger spacing, but we're not going to implement that bit."
   ]
  },
  {
   "cell_type": "code",
   "execution_count": 1,
   "metadata": {},
   "outputs": [],
   "source": [
    "from Gameboard import Gameboard\n",
    "from Random import Random\n",
    "from collections import deque"
   ]
  },
  {
   "cell_type": "code",
   "execution_count": 2,
   "metadata": {},
   "outputs": [],
   "source": [
    "%%capture\n",
    "board = Gameboard()\n",
    "random = Random()"
   ]
  },
  {
   "cell_type": "code",
   "execution_count": 3,
   "metadata": {},
   "outputs": [
    {
     "name": "stdout",
     "output_type": "stream",
     "text": [
      "['A1', 'A3', 'A5', 'A7', 'A9', 'B2', 'B4', 'B6', 'B8', 'B10', 'C1', 'C3', 'C5', 'C7', 'C9', 'D2', 'D4', 'D6', 'D8', 'D10', 'E1', 'E3', 'E5', 'E7', 'E9', 'F2', 'F4', 'F6', 'F8', 'F10', 'G1', 'G3', 'G5', 'G7', 'G9', 'H2', 'H4', 'H6', 'H8', 'H10', 'I1', 'I3', 'I5', 'I7', 'I9', 'J2', 'J4', 'J6', 'J8', 'J10']\n"
     ]
    },
    {
     "data": {
      "image/png": "[encoded data removed]",
      "text/plain": [
       "<Figure size 432x288 with 1 Axes>"
      ]
     },
     "execution_count": 3,
     "metadata": {},
     "output_type": "execute_result"
    }
   ],
   "source": [
    "# everything is the same as in hunt and target strategy,\n",
    "# except we manually change the available locations list (in Random class) \n",
    "# so that only even indexed elements remain\n",
    "\n",
    "# get ready\n",
    "queue = deque()\n",
    "visited_locations = set()\n",
    "mode = 'hunt'\n",
    "board.hide_ship(*random.generate_ship_locations())\n",
    "\n",
    "# change available locations list to checkerboard pattern as in picture above\n",
    "new_available_locations = []\n",
    "for i in range(0, len(random.available_locations)):\n",
    "    curr_row = i // Gameboard.nrows\n",
    "    if curr_row % 2 == 0 and i % 2 == 0:\n",
    "        new_available_locations.append(random.available_locations[i])\n",
    "    elif curr_row % 2 != 0 and i % 2 != 0:\n",
    "        new_available_locations.append(random.available_locations[i])\n",
    "random.available_locations = new_available_locations\n",
    "\n",
    "print(random.available_locations)\n",
    "board.get_figure()"
   ]
  },
  {
   "cell_type": "code",
   "execution_count": 4,
   "metadata": {},
   "outputs": [
    {
     "data": {
      "image/png": "[encoded data removed]",
      "text/plain": [
       "<Figure size 432x288 with 1 Axes>"
      ]
     },
     "execution_count": 4,
     "metadata": {},
     "output_type": "execute_result"
    }
   ],
   "source": [
    "while True:\n",
    "    # run single game\n",
    "    if mode == 'hunt':\n",
    "        random_loc = random.choose()\n",
    "        visited_locations.add(random_loc)\n",
    "        if board.shoot(random_loc):\n",
    "            mode = 'target'\n",
    "            for loc in board.neighbours(random_loc):\n",
    "                if loc not in visited_locations:\n",
    "                    queue.append(loc)\n",
    "    elif mode == 'target':\n",
    "        target_loc = queue.popleft()\n",
    "        if target_loc not in visited_locations:\n",
    "            visited_locations.add(target_loc)\n",
    "            if target_loc in random.available_locations:\n",
    "                random.make_unavailable(target_loc)\n",
    "            if board.shoot(target_loc):\n",
    "                for loc in board.neighbours(target_loc):\n",
    "                    if loc not in visited_locations:\n",
    "                        queue.append(loc)\n",
    "        if len(queue) == 0:\n",
    "            mode = 'hunt'\n",
    "\n",
    "    if board.is_game_over():\n",
    "        break\n",
    "\n",
    "board.get_figure()"
   ]
  },
  {
   "cell_type": "markdown",
   "metadata": {},
   "source": [
    "The parity algorithm gives improvment over the entire range, but the incremental\n",
    "gain is small. The biggest drain on shots is the unecessary walking around the edges of targets. Using the parity filter in Hunt mode has\n",
    "reduced the shot count, but once the algorithm gets into Target mode, it is just as inefficient as it was. To make futher improvements in\n",
    "strategy, it is this area we need to focus our attention."
   ]
  }
 ],
 "metadata": {
  "kernelspec": {
   "display_name": "Python 3",
   "language": "python",
   "name": "python3"
  },
  "language_info": {
   "codemirror_mode": {
    "name": "ipython",
    "version": 3
   },
   "file_extension": ".py",
   "mimetype": "text/x-python",
   "name": "python",
   "nbconvert_exporter": "python",
   "pygments_lexer": "ipython3",
   "version": "3.7.4"
  }
 },
 "nbformat": 4,
 "nbformat_minor": 2
}
