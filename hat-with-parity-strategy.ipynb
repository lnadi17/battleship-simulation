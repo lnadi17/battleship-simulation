{
 "cells": [
  {
   "cell_type": "markdown",
   "metadata": {},
   "source": [
    "We can make a slight improvement to the **Hunt** part of the hunt and target algorithm using parity.\n"
   ]
  },
  {
   "cell_type": "markdown",
   "metadata": {},
   "source": [
    "Because the minimum length of a ship is two units long, then we\n",
    "don't need to random search every location on the board. Even\n",
    "the shortest ship has to straddle two adjacent squares.\n",
    "\n",
    "A mathematical term to describe this is **Parity**. This is just a\n",
    "fancy word of describing if the square would contain an odd or\n",
    "even number if labelled sequentially from 1 to 100.\n",
    "\n",
    "The blue squares on the grid are even parity and the white\n",
    "squares odd parity."
   ]
  },
  {
   "cell_type": "markdown",
   "metadata": {},
   "source": [
    "![Parity ](https://i.imgur.com/g5zbP0t.png)"
   ]
  },
  {
   "cell_type": "markdown",
   "metadata": {},
   "source": [
    "We can instruct our **Hunt** algorithm to only randomly fire into\n",
    "unknown locations with even parity. Even if we only ever fire at\n",
    "blue locations, we will at least hit every ship — it's impossible to\n",
    "place any ship so that it does not touch at least one blue\n",
    "square.\n",
    "\n",
    "Once a target as been hit, and Target mode is activated, the\n",
    "'parity' restriction is lifted enabling all potential targets to be\n",
    "investigated. If the algorithm returns to Hunt mode, again, the\n",
    "parity filter is enabled."
   ]
  },
  {
   "cell_type": "markdown",
   "metadata": {},
   "source": [
    "Some readers will have realised that, once we've sunk\n",
    "the two unit destroyer, we can change the parity restriction to a\n",
    "larger spacing, but we're not going to implement that bit."
   ]
  },
  {
   "cell_type": "code",
   "execution_count": 5,
   "metadata": {},
   "outputs": [],
   "source": [
    "# TODO: put some more cells in here"
   ]
  },
  {
   "cell_type": "markdown",
   "metadata": {},
   "source": [
    "The parity algorithm gives improvment over the entire range, but the incremental\n",
    "gain is small. The biggest drain on shots is the unecessary walking around the edges of targets. Using the parity filter in Hunt mode has\n",
    "reduced the shot count, but once the algorithm gets into Target mode, it is just as inefficient as it was. To make futher improvements in\n",
    "strategy, it is this area we need to focus our attention."
   ]
  }
 ],
 "metadata": {
  "kernelspec": {
   "display_name": "Python 3",
   "language": "python",
   "name": "python3"
  },
  "language_info": {
   "codemirror_mode": {
    "name": "ipython",
    "version": 3
   },
   "file_extension": ".py",
   "mimetype": "text/x-python",
   "name": "python",
   "nbconvert_exporter": "python",
   "pygments_lexer": "ipython3",
   "version": "3.7.4"
  }
 },
 "nbformat": 4,
 "nbformat_minor": 2
}
