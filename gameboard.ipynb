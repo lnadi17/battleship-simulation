{
 "cells": [
  {
   "cell_type": "markdown",
   "metadata": {},
   "source": [
    "<b>Battleship</b> is a classic two person game, originally played with pen and paper."
   ]
  },
  {
   "cell_type": "markdown",
   "metadata": {},
   "source": [
    "On a grid (typically 10 x 10), players 'hide' ships of mixed length; horizontally or\n",
    "vertically (not diagonally) without any overlaps. The exact types and number of ships\n",
    "varies by rule, but for this posting, I'm using ships of lengths: 5, 4, 3, 3, 2 (which results\n",
    "in 17 possible targets out of the total of 100 squares)."
   ]
  },
  {
   "cell_type": "markdown",
   "metadata": {},
   "source": [
    "First, we try to make gameboard with enumerated squares."
   ]
  },
  {
   "cell_type": "code",
   "execution_count": 1,
   "metadata": {},
   "outputs": [],
   "source": [
    "# import all necessary libraries\n",
    "import numpy as np\n",
    "import matplotlib.pyplot as plt\n",
    "import matplotlib.colors as colors"
   ]
  },
  {
   "cell_type": "code",
   "execution_count": 2,
   "metadata": {},
   "outputs": [
    {
     "data": {
      "image/png": "[encoded data removed]",
      "text/plain": [
       "<Figure size 432x288 with 1 Axes>"
      ]
     },
     "metadata": {
      "needs_background": "light"
     },
     "output_type": "display_data"
    }
   ],
   "source": [
    "# create board image (initially completely white)\n",
    "nrows, ncols = 10, 10\n",
    "board = np.ones([nrows, ncols, 3])\n",
    "\n",
    "# color some squares \n",
    "# there is an example about named colors: https://matplotlib.org/3.1.0/gallery/color/named_colors.html\n",
    "board[0, 0] = (0, 0, 1)  # rgb color\n",
    "board[0, 1] = colors.to_rgb('c')  # base color\n",
    "board[0, 2] = colors.to_rgb('cornflowerblue')  # css color\n",
    "board[9, 7] = colors.to_rgb('tab:red')  # tabeau palette color\n",
    "board[9, 8] = colors.to_rgb('xkcd:ugly blue')  # xkcd color\n",
    "board[9, 9] = 0.5  # gray level color\n",
    "\n",
    "# create labels\n",
    "row_labels = [1, 2, 3, 4, 5, 6, 7, 8, 9, 10]\n",
    "col_labels = ['A', 'B', 'C', 'D', 'E', 'F', 'G', 'H', 'I', 'J']\n",
    "\n",
    "# create figure and axes, plot image\n",
    "fig, ax = plt.subplots()\n",
    "ax.imshow(board, origin='upper')\n",
    "\n",
    "# show all ticks\n",
    "ax.set_xticks(np.arange(ncols))\n",
    "ax.set_yticks(np.arange(nrows))\n",
    "\n",
    "# set custom labels\n",
    "ax.set_xticklabels(row_labels)\n",
    "ax.set_yticklabels(col_labels)\n",
    "\n",
    "# set bounds explicitly (not setting it clips top and bottom of the image)\n",
    "ax.set_xbound(-0.5, 9.5)\n",
    "ax.set_ybound(-0.5, 9.5)"
   ]
  },
  {
   "cell_type": "markdown",
   "metadata": {},
   "source": [
    "Next, we add function to select individual squares with hidden ships inside them."
   ]
  },
  {
   "cell_type": "code",
   "execution_count": 3,
   "metadata": {},
   "outputs": [],
   "source": [
    "# clear board\n",
    "board = np.ones([nrows, ncols, 3])"
   ]
  },
  {
   "cell_type": "code",
   "execution_count": 4,
   "metadata": {},
   "outputs": [],
   "source": [
    "# position should be a string or list of strings in [A-J][1-10] format\n",
    "def hide_ship(*positions):\n",
    "    for position in positions:\n",
    "        row = ord(position[0]) - ord('A')\n",
    "        col = int(position[1:]) - 1\n",
    "        board[row, col] = colors.to_rgb('royalblue')"
   ]
  },
  {
   "cell_type": "code",
   "execution_count": 5,
   "metadata": {},
   "outputs": [],
   "source": [
    "# also create function to unhide a ship\n",
    "def unhide_ship(*positions):\n",
    "    for position in positions:\n",
    "        row = ord(position[0]) - ord('A')\n",
    "        col = int(position[1:]) - 1\n",
    "        board[row, col] = 1"
   ]
  },
  {
   "cell_type": "code",
   "execution_count": 6,
   "metadata": {},
   "outputs": [
    {
     "data": {
      "image/png": "[encoded data removed]",
      "text/plain": [
       "<Figure size 432x288 with 1 Axes>"
      ]
     },
     "execution_count": 6,
     "metadata": {},
     "output_type": "execute_result"
    }
   ],
   "source": [
    "# test hide_ship function\n",
    "hide_ship('A2', 'A3', 'A4')\n",
    "hide_ship('C2', 'C3', 'C4', 'C5', 'C6')\n",
    "hide_ship('E3', 'F3')\n",
    "hide_ship('F5', 'G5', 'H5', 'I5')\n",
    "hide_ship('D9', 'E9', 'F9')\n",
    "\n",
    "# show gameboard on existing axes\n",
    "ax.imshow(board, origin='upper')\n",
    "\n",
    "# we are reusing created figure, so we need to type 'fig' instead of 'plt.show()'\n",
    "# for more info, see: https://stackoverflow.com/questions/39338053/jupyter-replot-in-different-cell\n",
    "fig"
   ]
  },
  {
   "cell_type": "code",
   "execution_count": 7,
   "metadata": {},
   "outputs": [
    {
     "data": {
      "image/png": "[encoded data removed]",
      "text/plain": [
       "<Figure size 432x288 with 1 Axes>"
      ]
     },
     "execution_count": 7,
     "metadata": {},
     "output_type": "execute_result"
    }
   ],
   "source": [
    "# test unhide_ship function\n",
    "unhide_ship('C2', 'C3', 'C4', 'C5', 'C6')\n",
    "ax.imshow(board, origin='upper')\n",
    "fig"
   ]
  }
 ],
 "metadata": {
  "kernelspec": {
   "display_name": "Python 3",
   "language": "python",
   "name": "python3"
  },
  "language_info": {
   "codemirror_mode": {
    "name": "ipython",
    "version": 3
   },
   "file_extension": ".py",
   "mimetype": "text/x-python",
   "name": "python",
   "nbconvert_exporter": "python",
   "pygments_lexer": "ipython3",
   "version": "3.7.4"
  }
 },
 "nbformat": 4,
 "nbformat_minor": 2
}
