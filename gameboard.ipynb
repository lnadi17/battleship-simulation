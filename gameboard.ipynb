{
 "cells": [
  {
   "cell_type": "markdown",
   "metadata": {},
   "source": [
    "<b>Battleship</b> is a classic two person game, originally played with pen and paper."
   ]
  },
  {
   "cell_type": "markdown",
   "metadata": {},
   "source": [
    "On a grid (typically 10 x 10), players 'hide' ships of mixed length; horizontally or\n",
    "vertically (not diagonally) without any overlaps. The exact types and number of ships\n",
    "varies by rule, but for this posting, I'm using ships of lengths: 5, 4, 3, 3, 2 (which results\n",
    "in 17 possible targets out of the total of 100 squares)."
   ]
  },
  {
   "cell_type": "markdown",
   "metadata": {},
   "source": [
    "First, we try to make gameboard with enumerated squares."
   ]
  },
  {
   "cell_type": "code",
   "execution_count": 1,
   "metadata": {},
   "outputs": [],
   "source": [
    "# import all necessary libraries\n",
    "import numpy as np\n",
    "import matplotlib.pyplot as plt\n",
    "import matplotlib.colors as colors"
   ]
  },
  {
   "cell_type": "code",
   "execution_count": 2,
   "metadata": {},
   "outputs": [
    {
     "data": {
      "image/png": "[encoded data removed]",
      "text/plain": [
       "<Figure size 432x288 with 1 Axes>"
      ]
     },
     "metadata": {
      "needs_background": "light"
     },
     "output_type": "display_data"
    }
   ],
   "source": [
    "# create board image (initially completely white)\n",
    "nrows, ncols = 10, 10\n",
    "board = np.ones([nrows, ncols, 3])\n",
    "\n",
    "# color some squares \n",
    "# there is an example about named colors: https://matplotlib.org/3.1.0/gallery/color/named_colors.html\n",
    "board[0, 0] = (0, 0, 1)  # rgb color\n",
    "board[0, 1] = colors.to_rgb('c')  # base color\n",
    "board[0, 2] = colors.to_rgb('cornflowerblue')  # css color\n",
    "board[9, 7] = colors.to_rgb('tab:red')  # tabeau palette color\n",
    "board[9, 8] = colors.to_rgb('xkcd:ugly blue')  # xkcd color\n",
    "board[9, 9] = 0.5  # gray level color\n",
    "\n",
    "# create labels\n",
    "row_labels = [1, 2, 3, 4, 5, 6, 7, 8, 9, 10]\n",
    "col_labels = ['A', 'B', 'C', 'D', 'E', 'F', 'G', 'H', 'I', 'J']\n",
    "\n",
    "# create figure and axes, plot image\n",
    "fig, ax = plt.subplots()\n",
    "ax.imshow(board, origin='upper')\n",
    "\n",
    "# show all ticks\n",
    "ax.set_xticks(np.arange(ncols))\n",
    "ax.set_yticks(np.arange(nrows))\n",
    "\n",
    "# set custom labels\n",
    "ax.set_xticklabels(row_labels)\n",
    "ax.set_yticklabels(col_labels)\n",
    "\n",
    "# set bounds explicitly (not setting it clips top and bottom of the image)\n",
    "ax.set_xbound(-0.5, 9.5)\n",
    "ax.set_ybound(-0.5, 9.5)"
   ]
  },
  {
   "cell_type": "markdown",
   "metadata": {},
   "source": [
    "Next, we add function to select individual squares with hidden ships inside them."
   ]
  },
  {
   "cell_type": "code",
   "execution_count": 3,
   "metadata": {},
   "outputs": [],
   "source": [
    "# clear board\n",
    "board = np.ones([nrows, ncols, 3])"
   ]
  },
  {
   "cell_type": "code",
   "execution_count": 4,
   "metadata": {},
   "outputs": [],
   "source": [
    "# position should be a string or list of strings in [A-J][1-10] format\n",
    "def hide_ship(*locations):\n",
    "    for location in locations:\n",
    "        row = ord(location[0]) - ord('A')\n",
    "        col = int(location[1:]) - 1\n",
    "        board[row, col] = colors.to_rgb('royalblue')"
   ]
  },
  {
   "cell_type": "code",
   "execution_count": 5,
   "metadata": {},
   "outputs": [],
   "source": [
    "# also create function to unhide a ship\n",
    "def unhide_ship(*locations):\n",
    "    for location in locations:\n",
    "        row = ord(location[0]) - ord('A')\n",
    "        col = int(location[1:]) - 1\n",
    "        board[row, col] = 1"
   ]
  },
  {
   "cell_type": "code",
   "execution_count": 6,
   "metadata": {},
   "outputs": [
    {
     "data": {
      "image/png": "[encoded data removed]",
      "text/plain": [
       "<Figure size 432x288 with 1 Axes>"
      ]
     },
     "execution_count": 6,
     "metadata": {},
     "output_type": "execute_result"
    }
   ],
   "source": [
    "# test hide_ship function\n",
    "hide_ship('A2', 'A3', 'A4')\n",
    "hide_ship('C2', 'C3', 'C4', 'C5', 'C6')\n",
    "hide_ship('E3', 'F3')\n",
    "hide_ship('F5', 'G5', 'H5', 'I5')\n",
    "hide_ship('D9', 'E9', 'F9')\n",
    "\n",
    "# show gameboard on existing axes\n",
    "ax.imshow(board, origin='upper')\n",
    "\n",
    "# we are reusing created figure, so we need to type 'fig' instead of 'plt.show()'\n",
    "# for more info, see: https://stackoverflow.com/questions/39338053/jupyter-replot-in-different-cell\n",
    "fig"
   ]
  },
  {
   "cell_type": "code",
   "execution_count": 7,
   "metadata": {},
   "outputs": [
    {
     "data": {
      "image/png": "[encoded data removed]",
      "text/plain": [
       "<Figure size 432x288 with 1 Axes>"
      ]
     },
     "execution_count": 7,
     "metadata": {},
     "output_type": "execute_result"
    }
   ],
   "source": [
    "# test unhide_ship function\n",
    "unhide_ship('C2', 'C3', 'C4', 'C5', 'C6')\n",
    "ax.imshow(board, origin='upper')\n",
    "fig"
   ]
  },
  {
   "cell_type": "markdown",
   "metadata": {},
   "source": [
    "We add grid to gameboard and remove tick marks to make it easier to read."
   ]
  },
  {
   "cell_type": "code",
   "execution_count": 8,
   "metadata": {},
   "outputs": [
    {
     "data": {
      "image/png": "[encoded data removed]",
      "text/plain": [
       "<Figure size 432x288 with 1 Axes>"
      ]
     },
     "execution_count": 8,
     "metadata": {},
     "output_type": "execute_result"
    }
   ],
   "source": [
    "# set up minor ticks\n",
    "ax.minorticks_on()\n",
    "ax.set_xticks(np.arange(ncols) + 0.5, minor=True)\n",
    "ax.set_yticks(np.arange(nrows) + 0.5, minor=True)\n",
    "\n",
    "# turn off the display of all ticks\n",
    "ax.tick_params(which='both',  # options for both major and minor ticks\n",
    "                top=False,  # turn off top ticks\n",
    "                left=False,  # turn off left ticks\n",
    "                right=False,  # turn off right ticks\n",
    "                bottom=False)  # turn off bottom ticks)\n",
    "\n",
    "# reset bounds (seems like setting ticks messes up bounds)\n",
    "ax.set_xbound(-0.5, 9.5)\n",
    "ax.set_ybound(-0.5, 9.5)\n",
    "\n",
    "# show grid on minor ticks\n",
    "ax.grid(which='minor', linestyle='-', color='black')\n",
    "\n",
    "fig"
   ]
  },
  {
   "cell_type": "markdown",
   "metadata": {},
   "source": [
    "We’ll start with a description of the simplified method of play:\n",
    "\n",
    "After each player has hidden his fleet, players alternate taking\n",
    "shots at each other by specifying the coordinates of the target\n",
    "location. After each shot, the opponent responds with either a\n",
    "call <font color='red'>HIT!</font> or <font color='gray'>MISS!</font> indicating whether the target coordinates\n",
    "have hit part of a boat, or open water.\n",
    "\n",
    "In these diagrams, misses are depicted by grey crosses and hits\n",
    "by red squares with grey crosses.\n",
    "\n",
    "The first player to sink his opponent’s fleet (hitting every location\n",
    "covered with part of a boat) wins the game."
   ]
  },
  {
   "cell_type": "markdown",
   "metadata": {},
   "source": [
    "Our next functions should be about choosing target location and getting hit or miss feedback."
   ]
  },
  {
   "cell_type": "code",
   "execution_count": 9,
   "metadata": {},
   "outputs": [],
   "source": [
    "# updates gameboard and returns True if boat was hit\n",
    "def shoot(location):\n",
    "    row = ord(location[0]) - ord('A')\n",
    "    col = int(location[1:]) - 1\n",
    "    \n",
    "    # draw grey hit marker\n",
    "    ax.plot(col, row, marker='X', markersize=15, color='darkgray')\n",
    "    \n",
    "    # check if boat's at current location and change the color of square to red if so\n",
    "    if (board[row, col] == colors.to_rgb('royalblue')).all():\n",
    "        board[row, col] = colors.to_rgb('red')\n",
    "        print(\"HIT!\")\n",
    "        return True\n",
    "    else:\n",
    "        print(\"MISS!\")\n",
    "        return False"
   ]
  },
  {
   "cell_type": "code",
   "execution_count": 10,
   "metadata": {},
   "outputs": [
    {
     "name": "stdout",
     "output_type": "stream",
     "text": [
      "HIT!\n"
     ]
    },
    {
     "data": {
      "image/png": "[encoded data removed]",
      "text/plain": [
       "<Figure size 432x288 with 1 Axes>"
      ]
     },
     "execution_count": 10,
     "metadata": {},
     "output_type": "execute_result"
    }
   ],
   "source": [
    "# test shoot function\n",
    "shoot('A2')\n",
    "ax.imshow(board, origin='upper')\n",
    "fig"
   ]
  },
  {
   "cell_type": "code",
   "execution_count": 11,
   "metadata": {},
   "outputs": [
    {
     "name": "stdout",
     "output_type": "stream",
     "text": [
      "MISS!\n"
     ]
    },
    {
     "data": {
      "image/png": "[encoded data removed]",
      "text/plain": [
       "<Figure size 432x288 with 1 Axes>"
      ]
     },
     "execution_count": 11,
     "metadata": {},
     "output_type": "execute_result"
    }
   ],
   "source": [
    "# test shoot function\n",
    "shoot('D3')\n",
    "ax.imshow(board, origin='upper')\n",
    "fig"
   ]
  },
  {
   "cell_type": "code",
   "execution_count": 12,
   "metadata": {},
   "outputs": [
    {
     "name": "stdout",
     "output_type": "stream",
     "text": [
      "HIT!\n"
     ]
    },
    {
     "data": {
      "image/png": "[encoded data removed]",
      "text/plain": [
       "<Figure size 432x288 with 1 Axes>"
      ]
     },
     "execution_count": 12,
     "metadata": {},
     "output_type": "execute_result"
    }
   ],
   "source": [
    "# test shoot function\n",
    "shoot('A4')\n",
    "ax.imshow(board, origin='upper')\n",
    "fig"
   ]
  },
  {
   "cell_type": "markdown",
   "metadata": {},
   "source": [
    "At this point we've implemented basic functionality so we're ready to start game simulations. However, these aren't full game rules. The official rules also state that you should let your opponent know if they've successfully SUNK any ship. We're going to implement that later. For now, we'll wrap everything in Gameboard class and implement some more helpful methods along the way."
   ]
  },
  {
   "cell_type": "code",
   "execution_count": 13,
   "metadata": {},
   "outputs": [],
   "source": [
    "class Gameboard:\n",
    "    # static variables (they aren't intended to change)\n",
    "    nrows, ncols = 10, 10\n",
    "    row_labels = [1, 2, 3, 4, 5, 6, 7, 8, 9, 10]\n",
    "    col_labels = ['A', 'B', 'C', 'D', 'E', 'F', 'G', 'H', 'I', 'J']\n",
    "    \n",
    "    boat_color = colors.to_rgb('royalblue')\n",
    "    hit_color = colors.to_rgb('red')\n",
    "    \n",
    "    def __init__(self):\n",
    "        # create board image (initially completely white)\n",
    "        self.board = np.ones([Gameboard.nrows, Gameboard.ncols, 3])\n",
    "\n",
    "        # create figure and axes\n",
    "        self.fig, self.ax = plt.subplots()\n",
    "\n",
    "        # show all ticks\n",
    "        self.ax.set_xticks(np.arange(Gameboard.ncols))\n",
    "        self.ax.set_yticks(np.arange(Gameboard.nrows))\n",
    "\n",
    "        # set custom labels\n",
    "        self.ax.set_xticklabels(Gameboard.row_labels)\n",
    "        self.ax.set_yticklabels(Gameboard.col_labels)\n",
    "        \n",
    "        # set up minor ticks\n",
    "        self.ax.minorticks_on()\n",
    "        self.ax.set_xticks(np.arange(Gameboard.ncols) + 0.5, minor=True)\n",
    "        self.ax.set_yticks(np.arange(Gameboard.nrows) + 0.5, minor=True)\n",
    "\n",
    "        # turn off the display of all ticks\n",
    "        self.ax.tick_params(which='both', top=False, left=False, right=False, bottom=False)\n",
    "\n",
    "        # show grid on minor ticks\n",
    "        self.ax.grid(which='minor', linestyle='-', color='black')\n",
    "\n",
    "        # set bounds\n",
    "        self.ax.set_xbound(-0.5, 9.5)\n",
    "        self.ax.set_ybound(-0.5, 9.5)\n",
    "        \n",
    "        print('done')\n",
    "        \n",
    "    # position should be a string or list of strings in [A-J][1-10] format\n",
    "    def hide_ship(self, *locations):\n",
    "        for location in locations:\n",
    "            row = ord(location[0]) - ord('A')\n",
    "            col = int(location[1:]) - 1\n",
    "            self.board[row, col] = Gameboard.boat_color\n",
    "            \n",
    "    def unhide_ship(self, *locations):\n",
    "        for location in locations:\n",
    "            row = ord(location[0]) - ord('A')\n",
    "            col = int(location[1:]) - 1\n",
    "            # change square color to white\n",
    "            self.board[row, col] = 1\n",
    "    \n",
    "    def clear(self):\n",
    "        self.board = np.ones([Gameboard.nrows, Gameboard.ncols, 3])\n",
    "        for line in self.ax.get_lines():\n",
    "            line.set_marker(None)\n",
    "        \n",
    "    # updates gameboard and returns True if boat was hit\n",
    "    def shoot(self, location):\n",
    "        row = ord(location[0]) - ord('A')\n",
    "        col = int(location[1:]) - 1\n",
    "\n",
    "        # draw grey hit marker\n",
    "        self.ax.plot(col, row, marker='X', markersize=15, color='darkgray')\n",
    "\n",
    "        # check if boat's at current location and change the color of square to red if so\n",
    "        if (self.board[row, col] == Gameboard.boat_color).all():\n",
    "            self.board[row, col] = Gameboard.hit_color\n",
    "            return True\n",
    "        else:\n",
    "            return False\n",
    "        \n",
    "    # returns matplotlib figure\n",
    "    def get_figure(self):\n",
    "        self.update()\n",
    "        return self.fig\n",
    "    \n",
    "    # returns matplotlib axes\n",
    "    def get_axes(self):\n",
    "        self.update()\n",
    "        return self.ax\n",
    "    \n",
    "    # applies changes made to board array\n",
    "    def update(self):\n",
    "        self.ax.imshow(self.board, origin='upper')"
   ]
  },
  {
   "cell_type": "markdown",
   "metadata": {},
   "source": [
    "Next, we create board object from Gameboard class and test it."
   ]
  },
  {
   "cell_type": "code",
   "execution_count": 14,
   "metadata": {},
   "outputs": [],
   "source": [
    "%%capture\n",
    "\n",
    "# create Gameboard object\n",
    "board = Gameboard()\n",
    "\n",
    "# hide two ships\n",
    "board.hide_ship('B4', 'B5', 'B6')\n",
    "board.hide_ship('I10', 'H10', 'G10', 'F10', 'E10')"
   ]
  },
  {
   "cell_type": "code",
   "execution_count": 15,
   "metadata": {},
   "outputs": [
    {
     "data": {
      "image/png": "[encoded data removed]",
      "text/plain": [
       "<Figure size 432x288 with 1 Axes>"
      ]
     },
     "execution_count": 15,
     "metadata": {},
     "output_type": "execute_result"
    }
   ],
   "source": [
    "board.get_figure()"
   ]
  },
  {
   "cell_type": "code",
   "execution_count": 16,
   "metadata": {},
   "outputs": [
    {
     "data": {
      "text/plain": [
       "False"
      ]
     },
     "execution_count": 16,
     "metadata": {},
     "output_type": "execute_result"
    }
   ],
   "source": [
    "board.shoot('C4')"
   ]
  },
  {
   "cell_type": "code",
   "execution_count": 17,
   "metadata": {},
   "outputs": [
    {
     "data": {
      "text/plain": [
       "True"
      ]
     },
     "execution_count": 17,
     "metadata": {},
     "output_type": "execute_result"
    }
   ],
   "source": [
    "board.shoot('F10')"
   ]
  },
  {
   "cell_type": "code",
   "execution_count": 18,
   "metadata": {},
   "outputs": [
    {
     "data": {
      "text/plain": [
       "False"
      ]
     },
     "execution_count": 18,
     "metadata": {},
     "output_type": "execute_result"
    }
   ],
   "source": [
    "board.shoot('F9')"
   ]
  },
  {
   "cell_type": "code",
   "execution_count": 19,
   "metadata": {},
   "outputs": [
    {
     "data": {
      "text/plain": [
       "True"
      ]
     },
     "execution_count": 19,
     "metadata": {},
     "output_type": "execute_result"
    }
   ],
   "source": [
    "board.shoot('E10')"
   ]
  },
  {
   "cell_type": "code",
   "execution_count": 20,
   "metadata": {},
   "outputs": [
    {
     "data": {
      "image/png": "[encoded data removed]",
      "text/plain": [
       "<Figure size 432x288 with 1 Axes>"
      ]
     },
     "execution_count": 20,
     "metadata": {},
     "output_type": "execute_result"
    }
   ],
   "source": [
    "board.get_figure()"
   ]
  },
  {
   "cell_type": "markdown",
   "metadata": {},
   "source": [
    "As we see, everything works as expected. There's just that methods don't check if, for example, location is in bounds, or if shoot method is called twice on the same location. For now, these things are on API user to take care of."
   ]
  }
 ],
 "metadata": {
  "kernelspec": {
   "display_name": "Python 3",
   "language": "python",
   "name": "python3"
  },
  "language_info": {
   "codemirror_mode": {
    "name": "ipython",
    "version": 3
   },
   "file_extension": ".py",
   "mimetype": "text/x-python",
   "name": "python",
   "nbconvert_exporter": "python",
   "pygments_lexer": "ipython3",
   "version": "3.7.4"
  }
 },
 "nbformat": 4,
 "nbformat_minor": 2
}
