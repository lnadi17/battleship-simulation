{
 "cells": [
  {
   "cell_type": "markdown",
   "metadata": {},
   "source": [
    "It's fairly easy to greatly improve results. Initially, shots can be fired at random, but once part of a ship has been hit, it's possible to search\n",
    "up, down, left and right looking for more of the same ship."
   ]
  },
  {
   "cell_type": "markdown",
   "metadata": {},
   "source": [
    "A simple implementation of this refined strategy is to create a stack of potential targets.\n",
    "Initially, the computer is in **Hunt** mode, firing at random. Once a ship has been 'winged' then\n",
    "the computer switches to **Target** mode. After a hit, the four surrounding grid squares are\n",
    "added to a stack of 'potential' targets (or less than four if the cell was on an edge/corner).\n"
   ]
  },
  {
   "cell_type": "markdown",
   "metadata": {},
   "source": [
    "Cells are only added if they have not already been visited (there is no point in re-visiting a cell\n",
    "if we already know that it is a **Hit** or **Miss**)."
   ]
  },
  {
   "cell_type": "markdown",
   "metadata": {},
   "source": [
    "Once in **Target** mode the computer pops off the next potential target off the stack, fires a\n",
    "salvo at this location, acts on this (either adding more potential targets to the stack, or\n",
    "popping the next target location off the stack), until either all ships have been sunk, or there\n",
    "are no more potential targets on the stack, at which point it returns to Hunt mode and starts\n",
    "firing at random again looking for another ship."
   ]
  },
  {
   "cell_type": "markdown",
   "metadata": {},
   "source": [
    "Looking at DataGenetics' Hunt/Target analysis, it's implemented using queue (\"first-in, first-out\") instead of a stack. I don't think it makes any difference, but we'll use queues to be consistent with the article."
   ]
  },
  {
   "cell_type": "code",
   "execution_count": 1,
   "metadata": {},
   "outputs": [],
   "source": [
    "from collections import deque\n",
    "from Gameboard import *\n",
    "from Random import *"
   ]
  },
  {
   "cell_type": "code",
   "execution_count": 2,
   "metadata": {},
   "outputs": [],
   "source": [
    "%%capture\n",
    "board = Gameboard()\n",
    "random = Random()"
   ]
  },
  {
   "cell_type": "code",
   "execution_count": 3,
   "metadata": {},
   "outputs": [
    {
     "data": {
      "image/png": "[encoded data removed]",
      "text/plain": [
       "<Figure size 432x288 with 1 Axes>"
      ]
     },
     "execution_count": 3,
     "metadata": {},
     "output_type": "execute_result"
    }
   ],
   "source": [
    "board.hide_ship(*random.generate_ship_locations())\n",
    "board.get_figure()"
   ]
  },
  {
   "cell_type": "code",
   "execution_count": 4,
   "metadata": {},
   "outputs": [
    {
     "data": {
      "image/png": "[encoded data removed]",
      "text/plain": [
       "<Figure size 432x288 with 1 Axes>"
      ]
     },
     "execution_count": 4,
     "metadata": {},
     "output_type": "execute_result"
    }
   ],
   "source": [
    "# create a queue for target mode\n",
    "queue = deque()\n",
    "# create a set of visited locations\n",
    "visited_locations = set()\n",
    "# we start with hunt mode\n",
    "mode = 'hunt'\n",
    "# counter for saving intermediate step images (optional)\n",
    "#step = 0\n",
    "\n",
    "while True:\n",
    "    if mode == 'hunt':\n",
    "        random_loc = random.choose()\n",
    "        visited_locations.add(random_loc)\n",
    "        # if shot is success, switch to target mode\n",
    "        if board.shoot(random_loc):\n",
    "            mode = 'target'\n",
    "            # enqueue neighbouring locations of destroyed ship\n",
    "            for loc in board.neighbours(random_loc):\n",
    "                if loc not in visited_locations:\n",
    "                    queue.append(loc)\n",
    "    elif mode == 'target':\n",
    "        # dequeue location\n",
    "        target_loc = queue.popleft()\n",
    "        # if it's visited, don't shoot\n",
    "        if target_loc not in visited_locations:\n",
    "            visited_locations.add(target_loc)\n",
    "            # make this location unavailable for Random class because it's visited\n",
    "            random.make_unavailable(target_loc)\n",
    "            # if shot is success, enqueue more locations\n",
    "            if board.shoot(target_loc):\n",
    "                for loc in board.neighbours(target_loc):\n",
    "                    if loc not in visited_locations:\n",
    "                        queue.append(loc)\n",
    "        # if queue is empty, go back to hunting\n",
    "        if len(queue) == 0:\n",
    "            mode = 'hunt'\n",
    "            \n",
    "    # we can save figure here (optional)\n",
    "    #step += 1\n",
    "    #board.get_axes().set_title('Step ' + str(step))\n",
    "    #board.get_figure().savefig('hunt-and-target-steps/fig_' + str(step))\n",
    "        \n",
    "    if board.is_game_over():\n",
    "        break\n",
    "        \n",
    "board.get_figure()"
   ]
  },
  {
   "cell_type": "markdown",
   "metadata": {},
   "source": [
    "We see that this strategy works better than random shooting. Unfortunately, we cannot see all intermediate steps in this notebook, but we can uncomment some lines in the code above to save images of these steps in a folder."
   ]
  },
  {
   "cell_type": "markdown",
   "metadata": {},
   "source": [
    "After successfully running a single game, it's time to run multiple games to see the statistics. "
   ]
  },
  {
   "cell_type": "code",
   "execution_count": 5,
   "metadata": {},
   "outputs": [],
   "source": [
    "shots = []\n",
    "accuracies = []\n",
    "board.clear()\n",
    "random.reset_available_locations()\n",
    "\n",
    "for i in range(100000):\n",
    "    # get ready\n",
    "    queue = deque()\n",
    "    visited_locations = set()\n",
    "    mode = 'hunt'\n",
    "    board.hide_ship(*random.generate_ship_locations())\n",
    "    \n",
    "    # run single game\n",
    "    while True:\n",
    "        if mode == 'hunt':\n",
    "            random_loc = random.choose()\n",
    "            visited_locations.add(random_loc)\n",
    "            if board.shoot(random_loc):\n",
    "                mode = 'target'\n",
    "                for loc in board.neighbours(random_loc):\n",
    "                    if loc not in visited_locations:\n",
    "                        queue.append(loc)\n",
    "        elif mode == 'target':\n",
    "            target_loc = queue.popleft()\n",
    "            if target_loc not in visited_locations:\n",
    "                visited_locations.add(target_loc)\n",
    "                random.make_unavailable(target_loc)\n",
    "                if board.shoot(target_loc):\n",
    "                    for loc in board.neighbours(target_loc):\n",
    "                        if loc not in visited_locations:\n",
    "                            queue.append(loc)\n",
    "            if len(queue) == 0:\n",
    "                mode = 'hunt'\n",
    "\n",
    "        if board.is_game_over():\n",
    "            break\n",
    "    \n",
    "    # capture statistics\n",
    "    shots.append(board.get_shot_count())\n",
    "    accuracies.append(board.get_accuracy())    \n",
    "        \n",
    "    # clean up\n",
    "    board.clear()\n",
    "    random.reset_available_locations()"
   ]
  },
  {
   "cell_type": "code",
   "execution_count": 6,
   "metadata": {},
   "outputs": [
    {
     "data": {
      "image/png": "[encoded data removed]",
      "text/plain": [
       "<Figure size 432x288 with 1 Axes>"
      ]
     },
     "metadata": {
      "needs_background": "light"
     },
     "output_type": "display_data"
    }
   ],
   "source": [
    "hist = np.histogram(shots, bins=len(shots), range=(0, 100))\n",
    "plt.plot(hist[1][:-1], hist[0])\n",
    "plt.title('Number of shots distribution')\n",
    "plt.show()"
   ]
  },
  {
   "cell_type": "code",
   "execution_count": 7,
   "metadata": {},
   "outputs": [
    {
     "data": {
      "image/png": "[encoded data removed]",
      "text/plain": [
       "<Figure size 432x288 with 1 Axes>"
      ]
     },
     "metadata": {
      "needs_background": "light"
     },
     "output_type": "display_data"
    }
   ],
   "source": [
    "hist = np.histogram(accuracies, bins=len(accuracies))\n",
    "plt.plot(hist[1][:-1], hist[0])\n",
    "plt.title('Accuracy distribution')\n",
    "plt.show()"
   ]
  },
  {
   "cell_type": "markdown",
   "metadata": {},
   "source": [
    "Even though far from elegant, this algorithm produces significantly better results than random firing. It is, however, a long way from efficient as it has no concept of what constitutes a ship, and blindly needs to walk around all surrounding edges of every hit pixel (with the exception of the last hit one), making sure there are no more ships touching."
   ]
  }
 ],
 "metadata": {
  "kernelspec": {
   "display_name": "Python 3",
   "language": "python",
   "name": "python3"
  },
  "language_info": {
   "codemirror_mode": {
    "name": "ipython",
    "version": 3
   },
   "file_extension": ".py",
   "mimetype": "text/x-python",
   "name": "python",
   "nbconvert_exporter": "python",
   "pygments_lexer": "ipython3",
   "version": "3.7.4"
  }
 },
 "nbformat": 4,
 "nbformat_minor": 2
}
