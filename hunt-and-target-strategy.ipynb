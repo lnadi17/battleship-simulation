{
 "cells": [
  {
   "cell_type": "markdown",
   "metadata": {},
   "source": [
    "It's fairly easy to greatly improve results. Initially, shots can be fired at random, but once part of a ship has been hit, it's possible to search\n",
    "up, down, left and right looking for more of the same ship."
   ]
  },
  {
   "cell_type": "markdown",
   "metadata": {},
   "source": [
    "A simple implementation of this refined strategy is to create a stack of potential targets.\n",
    "Initially, the computer is in **Hunt** mode, firing at random. Once a ship has been 'winged' then\n",
    "the computer switches to **Target** mode. After a hit, the four surrounding grid squares are\n",
    "added to a stack of 'potential' targets (or less than four if the cell was on an edge/corner).\n"
   ]
  },
  {
   "cell_type": "markdown",
   "metadata": {},
   "source": [
    "Cells are only added if they have not already been visited (there is no point in re-visiting a cell\n",
    "if we already know that it is a **Hit** or **Miss**)."
   ]
  },
  {
   "cell_type": "markdown",
   "metadata": {},
   "source": [
    "Once in **Target** mode the computer pops off the next potential target off the stack, fires a\n",
    "salvo at this location, acts on this (either adding more potential targets to the stack, or\n",
    "popping the next target location off the stack), until either all ships have been sunk, or there\n",
    "are no more potential targets on the stack, at which point it returns to Hunt mode and starts\n",
    "firing at random again looking for another ship."
   ]
  },
  {
   "cell_type": "markdown",
   "metadata": {},
   "source": [
    "Looking at DataGenetics' Hunt/Target analysis, it's implemented using queue (\"first-in, first-out\") instead of a stack. I don't think it makes any difference, but we'll use queues to be consistent with the article."
   ]
  }
 ],
 "metadata": {
  "kernelspec": {
   "display_name": "Python 3",
   "language": "python",
   "name": "python3"
  },
  "language_info": {
   "codemirror_mode": {
    "name": "ipython",
    "version": 3
   },
   "file_extension": ".py",
   "mimetype": "text/x-python",
   "name": "python",
   "nbconvert_exporter": "python",
   "pygments_lexer": "ipython3",
   "version": "3.7.4"
  }
 },
 "nbformat": 4,
 "nbformat_minor": 2
}
